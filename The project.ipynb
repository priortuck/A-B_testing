{
 "cells": [
  {
   "cell_type": "markdown",
   "metadata": {},
   "source": [
    "# Проект. Вариант 2."
   ]
  },
  {
   "cell_type": "code",
   "execution_count": 81,
   "metadata": {},
   "outputs": [],
   "source": [
    "import pandas as pd \n",
    "import numpy as np\n",
    "from urllib.parse import urlencode\n",
    "import requests\n",
    "from scipy.stats import chi2_contingency, bootstrap\n",
    "\n",
    "import seaborn as sns\n",
    "import matplotlib.pyplot as plt\n",
    "\n",
    "import pandahouse as ph"
   ]
  },
  {
   "cell_type": "code",
   "execution_count": 82,
   "metadata": {},
   "outputs": [],
   "source": [
    "#Настройка графиков\n",
    "sns.set(\n",
    "    font_scale=1.3,\n",
    "    style='darkgrid',\n",
    "    rc={'figure.figsize': (15, 5)}\n",
    ")"
   ]
  },
  {
   "cell_type": "markdown",
   "metadata": {},
   "source": [
    "Задание 1. A/B–тестирование\n",
    "\n",
    "1.1 Условие\n",
    "\n",
    "Одной из основных задач аналитика в нашей команде является корректное проведение экспериментов. Для этого мы применяем метод A/B–тестирования. В ходе тестирования одной гипотезы целевой группе была предложена новая механика оплаты услуг на сайте, у контрольной группы оставалась базовая механика. В качестве задания Вам необходимо проанализировать итоги эксперимента и сделать вывод, стоит ли запускать новую механику оплаты на всех пользователей.\n",
    "\n",
    "1.2 Входные данные\n",
    "\n",
    "В качестве входных данных Вы имеете 4 csv-файла:\n",
    "\n",
    "groups.csv - файл с информацией о принадлежности пользователя к контрольной или экспериментальной группе (А – контроль, B – целевая группа) \n",
    "\n",
    "groups_add.csv - дополнительный файл с пользователями, который вам прислали спустя 2 дня после передачи данных.\n",
    "\n",
    "active_studs.csv - файл с информацией о пользователях, которые зашли на платформу в дни проведения эксперимента. \n",
    "\n",
    "checks.csv - файл с информацией об оплатах пользователей в дни проведения эксперимента. \n",
    "\n",
    "1.3 Вопросы\n",
    "\n",
    "Предлагаем Вам ответить на следующие вопросы:\n",
    "\n",
    "- На какие метрики Вы смотрите в ходе анализа и почему? \n",
    "- Имеются ли различия в показателях и с чем они могут быть связаны? \n",
    "- Являются ли эти различия статистически значимыми? \n",
    "- Стоит ли запускать новую механику на всех пользователей? \n",
    "\n",
    "Данный список вопросов не является обязательным, и Вы можете при своём ответе опираться на собственный план.\n",
    "\n",
    "1.4 Требования к ответу\n",
    "\n",
    "- При выполнении тестового задания необходимо использовать язык программирования Python. \n",
    "- В файле обязательно должны быть комментарии к тем действиям, которые Вы выполняете с данными. \n",
    "- Файл должен представлять собой законченный отчёт с выводами, сделанными в ходе исследования."
   ]
  },
  {
   "cell_type": "markdown",
   "metadata": {},
   "source": [
    "# Загрузка файлов"
   ]
  },
  {
   "cell_type": "code",
   "execution_count": 83,
   "metadata": {},
   "outputs": [],
   "source": [
    "base_url = 'https://cloud-api.yandex.net/v1/disk/public/resources/download?'"
   ]
  },
  {
   "cell_type": "code",
   "execution_count": 84,
   "metadata": {},
   "outputs": [],
   "source": [
    "public_key = 'https://disk.yandex.ru/d/UhyYx41rTt3clQ' \n",
    "final_url = base_url + urlencode(dict(public_key=public_key)) \n",
    "groups = pd.read_csv(requests.get(final_url).json()['href'], sep=';')"
   ]
  },
  {
   "cell_type": "code",
   "execution_count": 85,
   "metadata": {},
   "outputs": [],
   "source": [
    "public_key = 'https://disk.yandex.ru/d/5Kxrz02m3IBUwQ' \n",
    "final_url = base_url + urlencode(dict(public_key=public_key)) \n",
    "groups_add = pd.read_csv(requests.get(final_url).json()['href'])"
   ]
  },
  {
   "cell_type": "code",
   "execution_count": 86,
   "metadata": {},
   "outputs": [],
   "source": [
    "public_key = 'https://disk.yandex.ru/d/Tbs44Bm6H_FwFQ' \n",
    "final_url = base_url + urlencode(dict(public_key=public_key)) \n",
    "active_studs = pd.read_csv(requests.get(final_url).json()['href'])"
   ]
  },
  {
   "cell_type": "code",
   "execution_count": 87,
   "metadata": {},
   "outputs": [],
   "source": [
    "public_key = 'https://disk.yandex.ru/d/pH1q-VqcxXjsVA' \n",
    "final_url = base_url + urlencode(dict(public_key=public_key)) \n",
    "checks = pd.read_csv(requests.get(final_url).json()['href'], sep=';')"
   ]
  },
  {
   "cell_type": "markdown",
   "metadata": {},
   "source": [
    "# EDA"
   ]
  },
  {
   "cell_type": "code",
   "execution_count": 88,
   "metadata": {},
   "outputs": [
    {
     "data": {
      "text/html": [
       "<div>\n",
       "<style scoped>\n",
       "    .dataframe tbody tr th:only-of-type {\n",
       "        vertical-align: middle;\n",
       "    }\n",
       "\n",
       "    .dataframe tbody tr th {\n",
       "        vertical-align: top;\n",
       "    }\n",
       "\n",
       "    .dataframe thead th {\n",
       "        text-align: right;\n",
       "    }\n",
       "</style>\n",
       "<table border=\"1\" class=\"dataframe\">\n",
       "  <thead>\n",
       "    <tr style=\"text-align: right;\">\n",
       "      <th></th>\n",
       "      <th>id</th>\n",
       "      <th>grp</th>\n",
       "    </tr>\n",
       "  </thead>\n",
       "  <tbody>\n",
       "    <tr>\n",
       "      <th>0</th>\n",
       "      <td>1489</td>\n",
       "      <td>B</td>\n",
       "    </tr>\n",
       "    <tr>\n",
       "      <th>1</th>\n",
       "      <td>1627</td>\n",
       "      <td>A</td>\n",
       "    </tr>\n",
       "    <tr>\n",
       "      <th>2</th>\n",
       "      <td>1768</td>\n",
       "      <td>B</td>\n",
       "    </tr>\n",
       "    <tr>\n",
       "      <th>3</th>\n",
       "      <td>1783</td>\n",
       "      <td>B</td>\n",
       "    </tr>\n",
       "    <tr>\n",
       "      <th>4</th>\n",
       "      <td>1794</td>\n",
       "      <td>A</td>\n",
       "    </tr>\n",
       "  </tbody>\n",
       "</table>\n",
       "</div>"
      ],
      "text/plain": [
       "     id grp\n",
       "0  1489   B\n",
       "1  1627   A\n",
       "2  1768   B\n",
       "3  1783   B\n",
       "4  1794   A"
      ]
     },
     "execution_count": 88,
     "metadata": {},
     "output_type": "execute_result"
    }
   ],
   "source": [
    "#Таблица с информацией о принадлежности пользователя к контрольной или экспериментальной группе\n",
    "groups.head()"
   ]
  },
  {
   "cell_type": "code",
   "execution_count": 89,
   "metadata": {},
   "outputs": [
    {
     "name": "stdout",
     "output_type": "stream",
     "text": [
      "<class 'pandas.core.frame.DataFrame'>\n",
      "RangeIndex: 74484 entries, 0 to 74483\n",
      "Data columns (total 2 columns):\n",
      " #   Column  Non-Null Count  Dtype \n",
      "---  ------  --------------  ----- \n",
      " 0   id      74484 non-null  int64 \n",
      " 1   grp     74484 non-null  object\n",
      "dtypes: int64(1), object(1)\n",
      "memory usage: 1.1+ MB\n"
     ]
    }
   ],
   "source": [
    "groups.info()"
   ]
  },
  {
   "cell_type": "code",
   "execution_count": 90,
   "metadata": {},
   "outputs": [
    {
     "data": {
      "text/plain": [
       "B    0.803032\n",
       "A    0.196968\n",
       "Name: grp, dtype: float64"
      ]
     },
     "execution_count": 90,
     "metadata": {},
     "output_type": "execute_result"
    }
   ],
   "source": [
    "groups['grp'].value_counts(normalize=True)"
   ]
  },
  {
   "cell_type": "code",
   "execution_count": 91,
   "metadata": {},
   "outputs": [
    {
     "data": {
      "text/plain": [
       "id     0\n",
       "grp    0\n",
       "dtype: int64"
      ]
     },
     "execution_count": 91,
     "metadata": {},
     "output_type": "execute_result"
    }
   ],
   "source": [
    "groups.isna().sum()"
   ]
  },
  {
   "cell_type": "code",
   "execution_count": 92,
   "metadata": {},
   "outputs": [
    {
     "data": {
      "text/plain": [
       "0"
      ]
     },
     "execution_count": 92,
     "metadata": {},
     "output_type": "execute_result"
    }
   ],
   "source": [
    "groups.duplicated(subset=['id']).sum()"
   ]
  },
  {
   "cell_type": "markdown",
   "metadata": {},
   "source": [
    "В основных данных о группах отсутствуют пропуски и дубликаты, группы тестирования разного размера."
   ]
  },
  {
   "cell_type": "code",
   "execution_count": 93,
   "metadata": {},
   "outputs": [
    {
     "data": {
      "text/html": [
       "<div>\n",
       "<style scoped>\n",
       "    .dataframe tbody tr th:only-of-type {\n",
       "        vertical-align: middle;\n",
       "    }\n",
       "\n",
       "    .dataframe tbody tr th {\n",
       "        vertical-align: top;\n",
       "    }\n",
       "\n",
       "    .dataframe thead th {\n",
       "        text-align: right;\n",
       "    }\n",
       "</style>\n",
       "<table border=\"1\" class=\"dataframe\">\n",
       "  <thead>\n",
       "    <tr style=\"text-align: right;\">\n",
       "      <th></th>\n",
       "      <th>id</th>\n",
       "      <th>grp</th>\n",
       "    </tr>\n",
       "  </thead>\n",
       "  <tbody>\n",
       "    <tr>\n",
       "      <th>0</th>\n",
       "      <td>5694584</td>\n",
       "      <td>B</td>\n",
       "    </tr>\n",
       "    <tr>\n",
       "      <th>1</th>\n",
       "      <td>5694830</td>\n",
       "      <td>B</td>\n",
       "    </tr>\n",
       "    <tr>\n",
       "      <th>2</th>\n",
       "      <td>5695057</td>\n",
       "      <td>B</td>\n",
       "    </tr>\n",
       "    <tr>\n",
       "      <th>3</th>\n",
       "      <td>5698872</td>\n",
       "      <td>B</td>\n",
       "    </tr>\n",
       "    <tr>\n",
       "      <th>4</th>\n",
       "      <td>5699067</td>\n",
       "      <td>B</td>\n",
       "    </tr>\n",
       "  </tbody>\n",
       "</table>\n",
       "</div>"
      ],
      "text/plain": [
       "        id grp\n",
       "0  5694584   B\n",
       "1  5694830   B\n",
       "2  5695057   B\n",
       "3  5698872   B\n",
       "4  5699067   B"
      ]
     },
     "execution_count": 93,
     "metadata": {},
     "output_type": "execute_result"
    }
   ],
   "source": [
    "#Дополнительная таблица с пользователями, которую вам прислали спустя 2 дня после передачи данных\n",
    "groups_add.head()"
   ]
  },
  {
   "cell_type": "code",
   "execution_count": 94,
   "metadata": {},
   "outputs": [
    {
     "name": "stdout",
     "output_type": "stream",
     "text": [
      "<class 'pandas.core.frame.DataFrame'>\n",
      "RangeIndex: 92 entries, 0 to 91\n",
      "Data columns (total 2 columns):\n",
      " #   Column  Non-Null Count  Dtype \n",
      "---  ------  --------------  ----- \n",
      " 0   id      92 non-null     int64 \n",
      " 1   grp     92 non-null     object\n",
      "dtypes: int64(1), object(1)\n",
      "memory usage: 1.6+ KB\n"
     ]
    }
   ],
   "source": [
    "groups_add.info()"
   ]
  },
  {
   "cell_type": "code",
   "execution_count": 95,
   "metadata": {},
   "outputs": [
    {
     "data": {
      "text/plain": [
       "B    0.76087\n",
       "A    0.23913\n",
       "Name: grp, dtype: float64"
      ]
     },
     "execution_count": 95,
     "metadata": {},
     "output_type": "execute_result"
    }
   ],
   "source": [
    "groups_add['grp'].value_counts(normalize=True)"
   ]
  },
  {
   "cell_type": "code",
   "execution_count": 96,
   "metadata": {},
   "outputs": [
    {
     "data": {
      "text/plain": [
       "id     0\n",
       "grp    0\n",
       "dtype: int64"
      ]
     },
     "execution_count": 96,
     "metadata": {},
     "output_type": "execute_result"
    }
   ],
   "source": [
    "groups_add.isna().sum()"
   ]
  },
  {
   "cell_type": "code",
   "execution_count": 97,
   "metadata": {},
   "outputs": [
    {
     "data": {
      "text/plain": [
       "0"
      ]
     },
     "execution_count": 97,
     "metadata": {},
     "output_type": "execute_result"
    }
   ],
   "source": [
    "groups_add.duplicated(subset=['id']).sum()"
   ]
  },
  {
   "cell_type": "markdown",
   "metadata": {},
   "source": [
    "В дополнительных данных также отсутствуют пропуски и дубликаты, размеры групп тоже разные.\n",
    "\n"
   ]
  },
  {
   "cell_type": "code",
   "execution_count": 98,
   "metadata": {},
   "outputs": [
    {
     "data": {
      "text/html": [
       "<div>\n",
       "<style scoped>\n",
       "    .dataframe tbody tr th:only-of-type {\n",
       "        vertical-align: middle;\n",
       "    }\n",
       "\n",
       "    .dataframe tbody tr th {\n",
       "        vertical-align: top;\n",
       "    }\n",
       "\n",
       "    .dataframe thead th {\n",
       "        text-align: right;\n",
       "    }\n",
       "</style>\n",
       "<table border=\"1\" class=\"dataframe\">\n",
       "  <thead>\n",
       "    <tr style=\"text-align: right;\">\n",
       "      <th></th>\n",
       "      <th>student_id</th>\n",
       "    </tr>\n",
       "  </thead>\n",
       "  <tbody>\n",
       "    <tr>\n",
       "      <th>0</th>\n",
       "      <td>581585</td>\n",
       "    </tr>\n",
       "    <tr>\n",
       "      <th>1</th>\n",
       "      <td>5723133</td>\n",
       "    </tr>\n",
       "    <tr>\n",
       "      <th>2</th>\n",
       "      <td>3276743</td>\n",
       "    </tr>\n",
       "    <tr>\n",
       "      <th>3</th>\n",
       "      <td>4238589</td>\n",
       "    </tr>\n",
       "    <tr>\n",
       "      <th>4</th>\n",
       "      <td>4475369</td>\n",
       "    </tr>\n",
       "  </tbody>\n",
       "</table>\n",
       "</div>"
      ],
      "text/plain": [
       "   student_id\n",
       "0      581585\n",
       "1     5723133\n",
       "2     3276743\n",
       "3     4238589\n",
       "4     4475369"
      ]
     },
     "execution_count": 98,
     "metadata": {},
     "output_type": "execute_result"
    }
   ],
   "source": [
    "#Таблица с информацией о пользователях, которые зашли на платформу в дни проведения эксперимента\n",
    "active_studs.head()"
   ]
  },
  {
   "cell_type": "code",
   "execution_count": 99,
   "metadata": {},
   "outputs": [
    {
     "name": "stdout",
     "output_type": "stream",
     "text": [
      "<class 'pandas.core.frame.DataFrame'>\n",
      "RangeIndex: 8341 entries, 0 to 8340\n",
      "Data columns (total 1 columns):\n",
      " #   Column      Non-Null Count  Dtype\n",
      "---  ------      --------------  -----\n",
      " 0   student_id  8341 non-null   int64\n",
      "dtypes: int64(1)\n",
      "memory usage: 65.3 KB\n"
     ]
    }
   ],
   "source": [
    "active_studs.info()"
   ]
  },
  {
   "cell_type": "code",
   "execution_count": 100,
   "metadata": {},
   "outputs": [],
   "source": [
    "#переименовываем колонку для дальнейшего мёрджа\n",
    "active_studs=active_studs.rename(columns={'student_id':'id'})"
   ]
  },
  {
   "cell_type": "code",
   "execution_count": 101,
   "metadata": {},
   "outputs": [
    {
     "data": {
      "text/plain": [
       "8341"
      ]
     },
     "execution_count": 101,
     "metadata": {},
     "output_type": "execute_result"
    }
   ],
   "source": [
    "active_studs['id'].nunique()"
   ]
  },
  {
   "cell_type": "code",
   "execution_count": 102,
   "metadata": {},
   "outputs": [
    {
     "data": {
      "text/plain": [
       "id    0\n",
       "dtype: int64"
      ]
     },
     "execution_count": 102,
     "metadata": {},
     "output_type": "execute_result"
    }
   ],
   "source": [
    "active_studs.isna().sum()"
   ]
  },
  {
   "cell_type": "code",
   "execution_count": 103,
   "metadata": {},
   "outputs": [
    {
     "data": {
      "text/plain": [
       "0"
      ]
     },
     "execution_count": 103,
     "metadata": {},
     "output_type": "execute_result"
    }
   ],
   "source": [
    "active_studs.duplicated(subset=['id']).sum()"
   ]
  },
  {
   "cell_type": "markdown",
   "metadata": {},
   "source": [
    "Данные о пользователях, которые зашли на платформу в дни проведения эксперимента, не содержат пропусков и дубликатов."
   ]
  },
  {
   "cell_type": "code",
   "execution_count": 104,
   "metadata": {},
   "outputs": [
    {
     "data": {
      "text/html": [
       "<div>\n",
       "<style scoped>\n",
       "    .dataframe tbody tr th:only-of-type {\n",
       "        vertical-align: middle;\n",
       "    }\n",
       "\n",
       "    .dataframe tbody tr th {\n",
       "        vertical-align: top;\n",
       "    }\n",
       "\n",
       "    .dataframe thead th {\n",
       "        text-align: right;\n",
       "    }\n",
       "</style>\n",
       "<table border=\"1\" class=\"dataframe\">\n",
       "  <thead>\n",
       "    <tr style=\"text-align: right;\">\n",
       "      <th></th>\n",
       "      <th>student_id</th>\n",
       "      <th>rev</th>\n",
       "    </tr>\n",
       "  </thead>\n",
       "  <tbody>\n",
       "    <tr>\n",
       "      <th>0</th>\n",
       "      <td>1627</td>\n",
       "      <td>990.0</td>\n",
       "    </tr>\n",
       "    <tr>\n",
       "      <th>1</th>\n",
       "      <td>3185</td>\n",
       "      <td>690.0</td>\n",
       "    </tr>\n",
       "    <tr>\n",
       "      <th>2</th>\n",
       "      <td>25973</td>\n",
       "      <td>690.0</td>\n",
       "    </tr>\n",
       "    <tr>\n",
       "      <th>3</th>\n",
       "      <td>26280</td>\n",
       "      <td>690.0</td>\n",
       "    </tr>\n",
       "    <tr>\n",
       "      <th>4</th>\n",
       "      <td>100300</td>\n",
       "      <td>990.0</td>\n",
       "    </tr>\n",
       "  </tbody>\n",
       "</table>\n",
       "</div>"
      ],
      "text/plain": [
       "   student_id    rev\n",
       "0        1627  990.0\n",
       "1        3185  690.0\n",
       "2       25973  690.0\n",
       "3       26280  690.0\n",
       "4      100300  990.0"
      ]
     },
     "execution_count": 104,
     "metadata": {},
     "output_type": "execute_result"
    }
   ],
   "source": [
    "#Таблица с информацией об оплатах пользователей в дни проведения эксперимента\n",
    "checks.head()"
   ]
  },
  {
   "cell_type": "code",
   "execution_count": 105,
   "metadata": {},
   "outputs": [
    {
     "name": "stdout",
     "output_type": "stream",
     "text": [
      "<class 'pandas.core.frame.DataFrame'>\n",
      "RangeIndex: 541 entries, 0 to 540\n",
      "Data columns (total 2 columns):\n",
      " #   Column      Non-Null Count  Dtype  \n",
      "---  ------      --------------  -----  \n",
      " 0   student_id  541 non-null    int64  \n",
      " 1   rev         541 non-null    float64\n",
      "dtypes: float64(1), int64(1)\n",
      "memory usage: 8.6 KB\n"
     ]
    }
   ],
   "source": [
    "checks.info()"
   ]
  },
  {
   "cell_type": "code",
   "execution_count": 106,
   "metadata": {},
   "outputs": [],
   "source": [
    "#Переименовываем колонку для дальнейшего мёрджа\n",
    "checks=checks.rename(columns={'student_id':'id'})"
   ]
  },
  {
   "cell_type": "code",
   "execution_count": 107,
   "metadata": {},
   "outputs": [
    {
     "data": {
      "text/plain": [
       "541"
      ]
     },
     "execution_count": 107,
     "metadata": {},
     "output_type": "execute_result"
    }
   ],
   "source": [
    "checks['id'].nunique()"
   ]
  },
  {
   "cell_type": "code",
   "execution_count": 108,
   "metadata": {},
   "outputs": [
    {
     "data": {
      "text/plain": [
       "id     0\n",
       "rev    0\n",
       "dtype: int64"
      ]
     },
     "execution_count": 108,
     "metadata": {},
     "output_type": "execute_result"
    }
   ],
   "source": [
    "checks.isna().sum()"
   ]
  },
  {
   "cell_type": "code",
   "execution_count": 109,
   "metadata": {},
   "outputs": [
    {
     "data": {
      "text/plain": [
       "0"
      ]
     },
     "execution_count": 109,
     "metadata": {},
     "output_type": "execute_result"
    }
   ],
   "source": [
    "checks.duplicated(subset=['id']).sum()"
   ]
  },
  {
   "cell_type": "markdown",
   "metadata": {},
   "source": [
    "Данные с информацией об оплатах пользователей в дни проведения эксперимента не содержат дубликатов \n"
   ]
  },
  {
   "cell_type": "code",
   "execution_count": 110,
   "metadata": {},
   "outputs": [],
   "source": [
    "#Объединяем таблицы \"groups\" и \"group_add\" через функцию concat\n",
    "complete_groups = pd.concat([groups, groups_add], ignore_index=True)"
   ]
  },
  {
   "cell_type": "code",
   "execution_count": 111,
   "metadata": {},
   "outputs": [],
   "source": [
    "#Мёрджим к полученному датасету данные об активных пользователях, создаём колонку, отображающую активность пользователей\n",
    "complete_groups_active = complete_groups.merge(active_studs.rename(columns={'id':'activity'}), left_on='id', right_on='activity', how='left')"
   ]
  },
  {
   "cell_type": "code",
   "execution_count": 112,
   "metadata": {},
   "outputs": [],
   "source": [
    "#Заменяем \"NaN\" нулями \n",
    "complete_groups_active['activity'] = complete_groups_active.activity.fillna(0)"
   ]
  },
  {
   "cell_type": "code",
   "execution_count": 113,
   "metadata": {},
   "outputs": [],
   "source": [
    "#Приведем данные колонки 'activity' к типу bool\n",
    "complete_groups_active['activity'] = complete_groups_active.apply(lambda row: True if row['activity'] > 0 else False, axis=1)"
   ]
  },
  {
   "cell_type": "code",
   "execution_count": 114,
   "metadata": {},
   "outputs": [
    {
     "data": {
      "text/html": [
       "<div>\n",
       "<style scoped>\n",
       "    .dataframe tbody tr th:only-of-type {\n",
       "        vertical-align: middle;\n",
       "    }\n",
       "\n",
       "    .dataframe tbody tr th {\n",
       "        vertical-align: top;\n",
       "    }\n",
       "\n",
       "    .dataframe thead th {\n",
       "        text-align: right;\n",
       "    }\n",
       "</style>\n",
       "<table border=\"1\" class=\"dataframe\">\n",
       "  <thead>\n",
       "    <tr style=\"text-align: right;\">\n",
       "      <th></th>\n",
       "      <th>id</th>\n",
       "      <th>grp</th>\n",
       "      <th>activity</th>\n",
       "    </tr>\n",
       "  </thead>\n",
       "  <tbody>\n",
       "    <tr>\n",
       "      <th>0</th>\n",
       "      <td>1489</td>\n",
       "      <td>B</td>\n",
       "      <td>False</td>\n",
       "    </tr>\n",
       "    <tr>\n",
       "      <th>1</th>\n",
       "      <td>1627</td>\n",
       "      <td>A</td>\n",
       "      <td>True</td>\n",
       "    </tr>\n",
       "    <tr>\n",
       "      <th>2</th>\n",
       "      <td>1768</td>\n",
       "      <td>B</td>\n",
       "      <td>False</td>\n",
       "    </tr>\n",
       "    <tr>\n",
       "      <th>3</th>\n",
       "      <td>1783</td>\n",
       "      <td>B</td>\n",
       "      <td>False</td>\n",
       "    </tr>\n",
       "    <tr>\n",
       "      <th>4</th>\n",
       "      <td>1794</td>\n",
       "      <td>A</td>\n",
       "      <td>False</td>\n",
       "    </tr>\n",
       "  </tbody>\n",
       "</table>\n",
       "</div>"
      ],
      "text/plain": [
       "     id grp  activity\n",
       "0  1489   B     False\n",
       "1  1627   A      True\n",
       "2  1768   B     False\n",
       "3  1783   B     False\n",
       "4  1794   A     False"
      ]
     },
     "execution_count": 114,
     "metadata": {},
     "output_type": "execute_result"
    }
   ],
   "source": [
    "complete_groups_active.head()"
   ]
  },
  {
   "cell_type": "code",
   "execution_count": 115,
   "metadata": {},
   "outputs": [
    {
     "data": {
      "text/plain": [
       "True"
      ]
     },
     "execution_count": 115,
     "metadata": {},
     "output_type": "execute_result"
    }
   ],
   "source": [
    "#Проверяем, не потерялись ли активные пользователи\n",
    "len(complete_groups_active.loc[complete_groups_active['activity'] == True]) == len(active_studs['id'])"
   ]
  },
  {
   "cell_type": "code",
   "execution_count": 116,
   "metadata": {},
   "outputs": [],
   "source": [
    "#Мёрджим последнюю таблицу к датасету\n",
    "complete_df = complete_groups_active.merge(checks, on='id', how='left')"
   ]
  },
  {
   "cell_type": "code",
   "execution_count": 117,
   "metadata": {},
   "outputs": [
    {
     "data": {
      "text/html": [
       "<div>\n",
       "<style scoped>\n",
       "    .dataframe tbody tr th:only-of-type {\n",
       "        vertical-align: middle;\n",
       "    }\n",
       "\n",
       "    .dataframe tbody tr th {\n",
       "        vertical-align: top;\n",
       "    }\n",
       "\n",
       "    .dataframe thead th {\n",
       "        text-align: right;\n",
       "    }\n",
       "</style>\n",
       "<table border=\"1\" class=\"dataframe\">\n",
       "  <thead>\n",
       "    <tr style=\"text-align: right;\">\n",
       "      <th></th>\n",
       "      <th>id</th>\n",
       "      <th>grp</th>\n",
       "      <th>activity</th>\n",
       "      <th>rev</th>\n",
       "    </tr>\n",
       "  </thead>\n",
       "  <tbody>\n",
       "    <tr>\n",
       "      <th>0</th>\n",
       "      <td>1489</td>\n",
       "      <td>B</td>\n",
       "      <td>False</td>\n",
       "      <td>NaN</td>\n",
       "    </tr>\n",
       "    <tr>\n",
       "      <th>1</th>\n",
       "      <td>1627</td>\n",
       "      <td>A</td>\n",
       "      <td>True</td>\n",
       "      <td>990.0</td>\n",
       "    </tr>\n",
       "    <tr>\n",
       "      <th>2</th>\n",
       "      <td>1768</td>\n",
       "      <td>B</td>\n",
       "      <td>False</td>\n",
       "      <td>NaN</td>\n",
       "    </tr>\n",
       "    <tr>\n",
       "      <th>3</th>\n",
       "      <td>1783</td>\n",
       "      <td>B</td>\n",
       "      <td>False</td>\n",
       "      <td>NaN</td>\n",
       "    </tr>\n",
       "    <tr>\n",
       "      <th>4</th>\n",
       "      <td>1794</td>\n",
       "      <td>A</td>\n",
       "      <td>False</td>\n",
       "      <td>NaN</td>\n",
       "    </tr>\n",
       "  </tbody>\n",
       "</table>\n",
       "</div>"
      ],
      "text/plain": [
       "     id grp  activity    rev\n",
       "0  1489   B     False    NaN\n",
       "1  1627   A      True  990.0\n",
       "2  1768   B     False    NaN\n",
       "3  1783   B     False    NaN\n",
       "4  1794   A     False    NaN"
      ]
     },
     "execution_count": 117,
     "metadata": {},
     "output_type": "execute_result"
    }
   ],
   "source": [
    "complete_df.head()"
   ]
  },
  {
   "cell_type": "code",
   "execution_count": 118,
   "metadata": {},
   "outputs": [],
   "source": [
    "#Заменяем NaN нулями в колонке 'rev'\n",
    "complete_df['rev'] = complete_df.rev.fillna(0)"
   ]
  },
  {
   "cell_type": "code",
   "execution_count": 119,
   "metadata": {},
   "outputs": [
    {
     "data": {
      "text/plain": [
       "True"
      ]
     },
     "execution_count": 119,
     "metadata": {},
     "output_type": "execute_result"
    }
   ],
   "source": [
    "#Снова проверяем, не потерялись ли данные \n",
    "len(complete_df.loc[complete_df['rev'] > 0]) == len(checks['id'])"
   ]
  },
  {
   "cell_type": "code",
   "execution_count": 120,
   "metadata": {},
   "outputs": [
    {
     "data": {
      "text/plain": [
       "149"
      ]
     },
     "execution_count": 120,
     "metadata": {},
     "output_type": "execute_result"
    }
   ],
   "source": [
    "#Проверяем данные на ошибки: у пользователя нет активности, но есть покупка. Таких оказалось 149\n",
    "len(complete_df.query('activity == False & rev > 0 '))"
   ]
  },
  {
   "cell_type": "code",
   "execution_count": 121,
   "metadata": {},
   "outputs": [],
   "source": [
    "#149 найденных загадочных пользователей удаляем из датасета\n",
    "complete_df = complete_df.drop(complete_df[(complete_df.activity == False) & (complete_df.rev > 0 )].index)"
   ]
  },
  {
   "cell_type": "code",
   "execution_count": 122,
   "metadata": {},
   "outputs": [],
   "source": [
    "#Меняем названия колонок, добавляем колонку, отображающую покупку\n",
    "complete_df = complete_df.rename({'grp': 'group', 'rev': 'revenue'}, axis=1)\n",
    "complete_df['payment'] = complete_df.revenue.apply(lambda x: 0 if x == 0 else 1)"
   ]
  },
  {
   "cell_type": "code",
   "execution_count": 123,
   "metadata": {},
   "outputs": [
    {
     "data": {
      "text/html": [
       "<div>\n",
       "<style scoped>\n",
       "    .dataframe tbody tr th:only-of-type {\n",
       "        vertical-align: middle;\n",
       "    }\n",
       "\n",
       "    .dataframe tbody tr th {\n",
       "        vertical-align: top;\n",
       "    }\n",
       "\n",
       "    .dataframe thead th {\n",
       "        text-align: right;\n",
       "    }\n",
       "</style>\n",
       "<table border=\"1\" class=\"dataframe\">\n",
       "  <thead>\n",
       "    <tr style=\"text-align: right;\">\n",
       "      <th></th>\n",
       "      <th>id</th>\n",
       "      <th>group</th>\n",
       "      <th>activity</th>\n",
       "      <th>revenue</th>\n",
       "      <th>payment</th>\n",
       "    </tr>\n",
       "  </thead>\n",
       "  <tbody>\n",
       "    <tr>\n",
       "      <th>0</th>\n",
       "      <td>1489</td>\n",
       "      <td>B</td>\n",
       "      <td>False</td>\n",
       "      <td>0.0</td>\n",
       "      <td>0</td>\n",
       "    </tr>\n",
       "    <tr>\n",
       "      <th>1</th>\n",
       "      <td>1627</td>\n",
       "      <td>A</td>\n",
       "      <td>True</td>\n",
       "      <td>990.0</td>\n",
       "      <td>1</td>\n",
       "    </tr>\n",
       "    <tr>\n",
       "      <th>2</th>\n",
       "      <td>1768</td>\n",
       "      <td>B</td>\n",
       "      <td>False</td>\n",
       "      <td>0.0</td>\n",
       "      <td>0</td>\n",
       "    </tr>\n",
       "    <tr>\n",
       "      <th>3</th>\n",
       "      <td>1783</td>\n",
       "      <td>B</td>\n",
       "      <td>False</td>\n",
       "      <td>0.0</td>\n",
       "      <td>0</td>\n",
       "    </tr>\n",
       "    <tr>\n",
       "      <th>4</th>\n",
       "      <td>1794</td>\n",
       "      <td>A</td>\n",
       "      <td>False</td>\n",
       "      <td>0.0</td>\n",
       "      <td>0</td>\n",
       "    </tr>\n",
       "  </tbody>\n",
       "</table>\n",
       "</div>"
      ],
      "text/plain": [
       "     id group  activity  revenue  payment\n",
       "0  1489     B     False      0.0        0\n",
       "1  1627     A      True    990.0        1\n",
       "2  1768     B     False      0.0        0\n",
       "3  1783     B     False      0.0        0\n",
       "4  1794     A     False      0.0        0"
      ]
     },
     "execution_count": 123,
     "metadata": {},
     "output_type": "execute_result"
    }
   ],
   "source": [
    "complete_df.head()"
   ]
  },
  {
   "cell_type": "code",
   "execution_count": 124,
   "metadata": {},
   "outputs": [
    {
     "data": {
      "text/plain": [
       "B    0.802975\n",
       "A    0.197025\n",
       "Name: group, dtype: float64"
      ]
     },
     "execution_count": 124,
     "metadata": {},
     "output_type": "execute_result"
    },
    {
     "data": {
      "image/png": "[encoded data removed]",
      "text/plain": [
       "<Figure size 1080x360 with 1 Axes>"
      ]
     },
     "metadata": {},
     "output_type": "display_data"
    }
   ],
   "source": [
    "#Визуализируем распределение по группам. Видим, что оно неравномерное\n",
    "sns.countplot(data = complete_df, x='group')\n",
    "complete_df['group'].value_counts(normalize=True)"
   ]
  },
  {
   "cell_type": "markdown",
   "metadata": {},
   "source": [
    "# Подготовка для статистического исследования"
   ]
  },
  {
   "cell_type": "code",
   "execution_count": 125,
   "metadata": {},
   "outputs": [],
   "source": [
    "#Оставляем только активных пользователей\n",
    "active_users = complete_df.loc[complete_df['activity'] == True]"
   ]
  },
  {
   "cell_type": "code",
   "execution_count": 126,
   "metadata": {},
   "outputs": [],
   "source": [
    "#Пользователи, оплатившие курс, в обеих группах\n",
    "complete_paid = active_users.loc[active_users['revenue'] > 0]"
   ]
  },
  {
   "cell_type": "code",
   "execution_count": 127,
   "metadata": {},
   "outputs": [],
   "source": [
    "#Активные пользователи из группы А\n",
    "A_group =  active_users.loc[active_users['group'] == \"A\"]"
   ]
  },
  {
   "cell_type": "code",
   "execution_count": 128,
   "metadata": {},
   "outputs": [],
   "source": [
    "#Пользователи из группы А, оплатившие курс\n",
    "A_group_paid = A_group.loc[A_group['revenue'] > 0]"
   ]
  },
  {
   "cell_type": "code",
   "execution_count": 129,
   "metadata": {},
   "outputs": [],
   "source": [
    "#Активные пользователи из группы B\n",
    "B_group =  active_users.loc[active_users['group'] == \"B\"]"
   ]
  },
  {
   "cell_type": "code",
   "execution_count": 130,
   "metadata": {},
   "outputs": [],
   "source": [
    "#Пользователи из группы B, оплатившие курс\n",
    "B_group_paid = B_group.loc[B_group['revenue'] > 0]"
   ]
  },
  {
   "cell_type": "code",
   "execution_count": 131,
   "metadata": {},
   "outputs": [
    {
     "data": {
      "text/plain": [
       "<matplotlib.axes._subplots.AxesSubplot at 0x7f5caec76518>"
      ]
     },
     "execution_count": 131,
     "metadata": {},
     "output_type": "execute_result"
    },
    {
     "data": {
      "image/png": "[encoded data removed]",
      "text/plain": [
       "<Figure size 1080x360 with 1 Axes>"
      ]
     },
     "metadata": {},
     "output_type": "display_data"
    }
   ],
   "source": [
    "#Распределение активных пользователей группы  А\n",
    "sns.histplot(data=A_group, x=\"revenue\", kde=True)"
   ]
  },
  {
   "cell_type": "code",
   "execution_count": 132,
   "metadata": {},
   "outputs": [
    {
     "data": {
      "text/plain": [
       "<matplotlib.axes._subplots.AxesSubplot at 0x7f5caf3a5b70>"
      ]
     },
     "execution_count": 132,
     "metadata": {},
     "output_type": "execute_result"
    },
    {
     "data": {
      "image/png": "[encoded data removed]",
      "text/plain": [
       "<Figure size 1080x360 with 1 Axes>"
      ]
     },
     "metadata": {},
     "output_type": "display_data"
    }
   ],
   "source": [
    "#Распределение пользователей, оплативших курс, из группы А\n",
    "sns.histplot(data=A_group_paid, x=\"revenue\", kde=True)"
   ]
  },
  {
   "cell_type": "code",
   "execution_count": 133,
   "metadata": {},
   "outputs": [
    {
     "data": {
      "text/plain": [
       "<matplotlib.axes._subplots.AxesSubplot at 0x7f5caec442e8>"
      ]
     },
     "execution_count": 133,
     "metadata": {},
     "output_type": "execute_result"
    },
    {
     "data": {
      "image/png": "[encoded data removed]",
      "text/plain": [
       "<Figure size 1080x360 with 1 Axes>"
      ]
     },
     "metadata": {},
     "output_type": "display_data"
    }
   ],
   "source": [
    "#Распределение активных пользователей группы B\n",
    "sns.histplot(data=B_group, x=\"revenue\", kde=True)"
   ]
  },
  {
   "cell_type": "code",
   "execution_count": 134,
   "metadata": {},
   "outputs": [
    {
     "data": {
      "text/plain": [
       "<matplotlib.axes._subplots.AxesSubplot at 0x7f5caebdecc0>"
      ]
     },
     "execution_count": 134,
     "metadata": {},
     "output_type": "execute_result"
    },
    {
     "data": {
      "image/png": "[encoded data removed]",
      "text/plain": [
       "<Figure size 1080x360 with 1 Axes>"
      ]
     },
     "metadata": {},
     "output_type": "display_data"
    }
   ],
   "source": [
    "#Распределение пользователей, оплативших курс, из группы B\n",
    "sns.histplot(data=B_group_paid, x=\"revenue\", kde=True)"
   ]
  },
  {
   "cell_type": "markdown",
   "metadata": {},
   "source": [
    "Распределения в группах не является нормальным, поэтому t-тест не подойдёт.\n"
   ]
  },
  {
   "cell_type": "markdown",
   "metadata": {},
   "source": [
    "# Метрики"
   ]
  },
  {
   "cell_type": "markdown",
   "metadata": {},
   "source": [
    "CR - Конверсия в покупку\n",
    "\n",
    "ARPU - Общий доход / Количество пользователей за период. Средний доход с одного пользователя\n",
    "\n",
    "ARPPU - Общий доход за период / Количество платящих пользователей за период.\n",
    "\n",
    "Данных для этих метрик достаточно. Они наиболее адекватно отразят влияние изменения механики оплаты на группы."
   ]
  },
  {
   "cell_type": "code",
   "execution_count": 135,
   "metadata": {},
   "outputs": [],
   "source": [
    "#Посчитаем сколько всего пользователей в группе и общий доход каждой группы\n",
    "metrics = active_users.groupby('group', as_index=False).agg({'revenue':'sum', 'id':'count'}).round(0)"
   ]
  },
  {
   "cell_type": "code",
   "execution_count": 136,
   "metadata": {},
   "outputs": [],
   "source": [
    "#Сколько человек совершили покупку\n",
    "metrics['buyers'] = active_users.loc[active_users['revenue'] > 0]\\\n",
    "    .groupby('group', as_index=False).agg({'id':'count'})['id']"
   ]
  },
  {
   "cell_type": "code",
   "execution_count": 137,
   "metadata": {},
   "outputs": [
    {
     "data": {
      "text/html": [
       "<div>\n",
       "<style scoped>\n",
       "    .dataframe tbody tr th:only-of-type {\n",
       "        vertical-align: middle;\n",
       "    }\n",
       "\n",
       "    .dataframe tbody tr th {\n",
       "        vertical-align: top;\n",
       "    }\n",
       "\n",
       "    .dataframe thead th {\n",
       "        text-align: right;\n",
       "    }\n",
       "</style>\n",
       "<table border=\"1\" class=\"dataframe\">\n",
       "  <thead>\n",
       "    <tr style=\"text-align: right;\">\n",
       "      <th></th>\n",
       "      <th>group</th>\n",
       "      <th>revenue</th>\n",
       "      <th>id</th>\n",
       "      <th>buyers</th>\n",
       "      <th>CR</th>\n",
       "      <th>ARPU</th>\n",
       "      <th>ARPPU</th>\n",
       "    </tr>\n",
       "  </thead>\n",
       "  <tbody>\n",
       "    <tr>\n",
       "      <th>0</th>\n",
       "      <td>A</td>\n",
       "      <td>72820.0</td>\n",
       "      <td>1538</td>\n",
       "      <td>78</td>\n",
       "      <td>0.051</td>\n",
       "      <td>47.347</td>\n",
       "      <td>933.590</td>\n",
       "    </tr>\n",
       "    <tr>\n",
       "      <th>1</th>\n",
       "      <td>B</td>\n",
       "      <td>394974.0</td>\n",
       "      <td>6803</td>\n",
       "      <td>314</td>\n",
       "      <td>0.046</td>\n",
       "      <td>58.059</td>\n",
       "      <td>1257.879</td>\n",
       "    </tr>\n",
       "  </tbody>\n",
       "</table>\n",
       "</div>"
      ],
      "text/plain": [
       "  group   revenue    id  buyers     CR    ARPU     ARPPU\n",
       "0     A   72820.0  1538      78  0.051  47.347   933.590\n",
       "1     B  394974.0  6803     314  0.046  58.059  1257.879"
      ]
     },
     "execution_count": 137,
     "metadata": {},
     "output_type": "execute_result"
    }
   ],
   "source": [
    "#Считаем CR, ARPU и ARPPU\n",
    "metrics['CR'] = (metrics['buyers']/metrics['id']).round(3)\n",
    "metrics['ARPU'] = (metrics['revenue']/metrics['id']).round(3)\n",
    "metrics['ARPPU'] = (metrics['revenue']/metrics['buyers']).round(3)\n",
    "metrics"
   ]
  },
  {
   "cell_type": "code",
   "execution_count": 138,
   "metadata": {},
   "outputs": [
    {
     "data": {
      "text/plain": [
       "'-9.8%'"
      ]
     },
     "execution_count": 138,
     "metadata": {},
     "output_type": "execute_result"
    }
   ],
   "source": [
    "#эффект для CR\n",
    "effect_CR = round((metrics.CR[1] - metrics.CR[0])/metrics.CR[0], 3)\n",
    "'{:.1%}'.format(effect_CR)"
   ]
  },
  {
   "cell_type": "code",
   "execution_count": 139,
   "metadata": {},
   "outputs": [
    {
     "data": {
      "text/plain": [
       "'22.6%'"
      ]
     },
     "execution_count": 139,
     "metadata": {},
     "output_type": "execute_result"
    }
   ],
   "source": [
    "#эффект для ARPU\n",
    "effect_ARPU = round((metrics.ARPU[1] - metrics.ARPU[0])/metrics.ARPU[0], 3)\n",
    "'{:.1%}'.format(effect_ARPU)"
   ]
  },
  {
   "cell_type": "code",
   "execution_count": 140,
   "metadata": {},
   "outputs": [
    {
     "data": {
      "text/plain": [
       "'34.7%'"
      ]
     },
     "execution_count": 140,
     "metadata": {},
     "output_type": "execute_result"
    }
   ],
   "source": [
    "#эффект для ARPPU\n",
    "effect_ARPPU = round((metrics.ARPPU[1] - metrics.ARPPU[0])/metrics.ARPPU[0], 3)\n",
    "'{:.1%}'.format(effect_ARPPU)"
   ]
  },
  {
   "cell_type": "markdown",
   "metadata": {},
   "source": [
    "В группе B конверсия снизилась на 9.8% в сравнении с группой A.\n",
    "\n",
    "ARPU и ARPPU в группе B выросли на 22.6% и 34.7%, соответственно. \n",
    "\n",
    "Эти результаты сигнализируют об уменьшении количества продаж и увеличении их ценности в соотношении на 1 покупателя. Возможно, продукт стал менее привлекательным для части пользователей в виду его стоимости.\n",
    "\n",
    "Проверим являются ли эти различия статистически значимыми?"
   ]
  },
  {
   "cell_type": "markdown",
   "metadata": {},
   "source": [
    "# CR "
   ]
  },
  {
   "cell_type": "markdown",
   "metadata": {},
   "source": [
    "Для анализа CR применим ХИ-квадрат, так как он используется для анализа категориальных переменнных, а мы будем анализировать факт покупки в соответствии с принадлежностью к той или иной группе."
   ]
  },
  {
   "cell_type": "markdown",
   "metadata": {},
   "source": [
    "Гипотезы:\n",
    "\n",
    "H0 - значение CR не зависит от группы\n",
    "\n",
    "H1 - значение CR зависит от группы"
   ]
  },
  {
   "cell_type": "code",
   "execution_count": 141,
   "metadata": {},
   "outputs": [
    {
     "data": {
      "text/html": [
       "<div>\n",
       "<style scoped>\n",
       "    .dataframe tbody tr th:only-of-type {\n",
       "        vertical-align: middle;\n",
       "    }\n",
       "\n",
       "    .dataframe tbody tr th {\n",
       "        vertical-align: top;\n",
       "    }\n",
       "\n",
       "    .dataframe thead th {\n",
       "        text-align: right;\n",
       "    }\n",
       "</style>\n",
       "<table border=\"1\" class=\"dataframe\">\n",
       "  <thead>\n",
       "    <tr style=\"text-align: right;\">\n",
       "      <th>group</th>\n",
       "      <th>A</th>\n",
       "      <th>B</th>\n",
       "    </tr>\n",
       "    <tr>\n",
       "      <th>payment</th>\n",
       "      <th></th>\n",
       "      <th></th>\n",
       "    </tr>\n",
       "  </thead>\n",
       "  <tbody>\n",
       "    <tr>\n",
       "      <th>0</th>\n",
       "      <td>1460</td>\n",
       "      <td>6489</td>\n",
       "    </tr>\n",
       "    <tr>\n",
       "      <th>1</th>\n",
       "      <td>78</td>\n",
       "      <td>314</td>\n",
       "    </tr>\n",
       "  </tbody>\n",
       "</table>\n",
       "</div>"
      ],
      "text/plain": [
       "group       A     B\n",
       "payment            \n",
       "0        1460  6489\n",
       "1          78   314"
      ]
     },
     "execution_count": 141,
     "metadata": {},
     "output_type": "execute_result"
    }
   ],
   "source": [
    "#Создаем таблицу сопряженности, чтобы выявить взаимосвязь между двумя переменными\n",
    "chi_2 = active_users.groupby(['group', 'payment'], as_index=False)\\\n",
    "                        .agg({'id': 'count'}) \\\n",
    "                        .pivot(values='id', index='payment', columns='group')\n",
    "chi_2"
   ]
  },
  {
   "cell_type": "code",
   "execution_count": 142,
   "metadata": {},
   "outputs": [
    {
     "data": {
      "text/plain": [
       "0.48625240457231045"
      ]
     },
     "execution_count": 142,
     "metadata": {},
     "output_type": "execute_result"
    }
   ],
   "source": [
    "chi2_contingency(chi_2)[1]"
   ]
  },
  {
   "cell_type": "markdown",
   "metadata": {},
   "source": [
    "P-value, больше 0.05, значит мы не можем отклонить нулевую гипотезу "
   ]
  },
  {
   "cell_type": "markdown",
   "metadata": {},
   "source": [
    "Для анализа ARPU и ARPPU применим bootstrap.\n",
    "\n",
    "Следует проверить, попадает ли 0 в доверительный интервал. Если да, то нулевая гипотеза принимается, если нет - отклоняется."
   ]
  },
  {
   "cell_type": "markdown",
   "metadata": {},
   "source": [
    "# ARPU"
   ]
  },
  {
   "cell_type": "markdown",
   "metadata": {},
   "source": [
    "\n",
    "H0 - ARPU в двух группах одинаковые\n",
    "\n",
    "H1 - ARPU в двух группах имеют различия"
   ]
  },
  {
   "cell_type": "code",
   "execution_count": 143,
   "metadata": {},
   "outputs": [],
   "source": [
    "#Функция для бутстрапа\n",
    "def bootstrap_(data, n_bootstrap=1000, statistic=np.mean):\n",
    "    bootstrap_stats = []\n",
    "    for _ in range(n_bootstrap):\n",
    "        bootstrap_sample = np.random.choice(data, size=len(data), replace=True)\n",
    "        stat = statistic(bootstrap_sample)\n",
    "        bootstrap_stats.append(stat)\n",
    "    return bootstrap_stats"
   ]
  },
  {
   "cell_type": "code",
   "execution_count": 147,
   "metadata": {},
   "outputs": [
    {
     "name": "stdout",
     "output_type": "stream",
     "text": [
      "Доверительный интервал для группы A: [34.12797464 62.79092978]\n",
      "Доверительный интервал для группы B: [50.74615658 65.64232759]\n"
     ]
    }
   ],
   "source": [
    "bootstrap_ARPU_A = bootstrap_(A_group.revenue)\n",
    "bootstrap_ARPU_B = bootstrap_(B_group.revenue)\n",
    "\n",
    "#Рассчитываем доверительные интервалы\n",
    "confidence_interval_ARPU_A = np.percentile(bootstrap_ARPU_A, [2.5, 97.5])\n",
    "confidence_interval_ARPU_B = np.percentile(bootstrap_ARPU_B, [2.5, 97.5])\n",
    "\n",
    "print(\"Доверительный интервал для группы A:\", confidence_interval_ARPU_A)\n",
    "print(\"Доверительный интервал для группы B:\", confidence_interval_ARPU_B)"
   ]
  },
  {
   "cell_type": "code",
   "execution_count": 148,
   "metadata": {},
   "outputs": [
    {
     "name": "stdout",
     "output_type": "stream",
     "text": [
      "Среднее ARPU для группы A: 47.388092977893365\n",
      "Среднее ARPU для группы B: 57.988181761766874\n",
      "Разница между ARPU для группы B и группы A: 10.60008878387351\n"
     ]
    }
   ],
   "source": [
    "#Средние значения ARPU для группы A и группы B\n",
    "mean_ARPU_A = np.mean(bootstrap_ARPU_A)\n",
    "mean_ARPU_B = np.mean(bootstrap_ARPU_B)\n",
    "\n",
    "#Расчет разницы между средними значениями ARPU\n",
    "difference_ARPU = mean_ARPU_B - mean_ARPU_A\n",
    "\n",
    "print(\"Среднее ARPU для группы A:\", mean_ARPU_A)\n",
    "print(\"Среднее ARPU для группы B:\", mean_ARPU_B)\n",
    "print(\"Разница между ARPU для группы B и группы A:\", difference_ARPU)"
   ]
  },
  {
   "cell_type": "code",
   "execution_count": 149,
   "metadata": {},
   "outputs": [
    {
     "name": "stdout",
     "output_type": "stream",
     "text": [
      "Доверительный интервал для разницы ARPU: [-6.029950583357433, 27.230128151104452]\n"
     ]
    }
   ],
   "source": [
    "#Разница между средними значениями ARPU для группы A и группы B\n",
    "difference_ARPU = mean_ARPU_B - mean_ARPU_A\n",
    "\n",
    "#Расчет стандартного отклонения разницы ARPU\n",
    "std_dev_ARPU_diff = np.sqrt(np.var(bootstrap_ARPU_A) + np.var(bootstrap_ARPU_B))\n",
    "\n",
    "#Расчет доверительного интервала для разницы ARPU\n",
    "confidence_interval_ARPU_diff = [difference_ARPU - 1.96 * std_dev_ARPU_diff, difference_ARPU + 1.96 * std_dev_ARPU_diff]\n",
    "\n",
    "print(\"Доверительный интервал для разницы ARPU:\", confidence_interval_ARPU_diff)"
   ]
  },
  {
   "cell_type": "markdown",
   "metadata": {},
   "source": [
    "Доверительный интервал включает в себя значение \"0\", следовательно отклонить нулевую гипотезу мы не можем.\n"
   ]
  },
  {
   "cell_type": "markdown",
   "metadata": {},
   "source": [
    "# ARPPU "
   ]
  },
  {
   "cell_type": "markdown",
   "metadata": {},
   "source": [
    "H0 - ARPPU в двух группах одинаковые\n",
    "\n",
    "H1 - ARPPU в двух группах имеют различия"
   ]
  },
  {
   "cell_type": "code",
   "execution_count": 150,
   "metadata": {},
   "outputs": [
    {
     "name": "stdout",
     "output_type": "stream",
     "text": [
      "Доверительный интервал для группы A: [ 739.96570513 1134.15737179]\n",
      "Доверительный интервал для группы B: [1173.13225757 1348.67540809]\n"
     ]
    }
   ],
   "source": [
    "bootstrap_ARPPU_A = bootstrap_(A_group_paid.revenue)\n",
    "bootstrap_ARPPU_B = bootstrap_(B_group_paid.revenue)\n",
    "\n",
    "#Рассчитываем доверительные интервалы\n",
    "confidence_interval_ARPPU_A = np.percentile(bootstrap_ARPPU_A, [2.5, 97.5])\n",
    "confidence_interval_ARPPU_B = np.percentile(bootstrap_ARPPU_B, [2.5, 97.5])\n",
    "\n",
    "print(\"Доверительный интервал для группы A:\", confidence_interval_ARPPU_A)\n",
    "print(\"Доверительный интервал для группы B:\", confidence_interval_ARPPU_B)"
   ]
  },
  {
   "cell_type": "code",
   "execution_count": 151,
   "metadata": {},
   "outputs": [
    {
     "name": "stdout",
     "output_type": "stream",
     "text": [
      "Среднее ARPU для группы A: 934.7591666666667\n",
      "Среднее ARPU для группы B: 1257.5010621226115\n",
      "Разница между ARPU для группы B и группы A: 322.7418954559448\n"
     ]
    }
   ],
   "source": [
    "#Средние значения ARPPU для группы A и группы B\n",
    "mean_ARPPU_A = np.mean(bootstrap_ARPPU_A)\n",
    "mean_ARPPU_B = np.mean(bootstrap_ARPPU_B)\n",
    "\n",
    "#Расчет разницы между средними значениями ARPPU\n",
    "difference_ARPPU = mean_ARPPU_B - mean_ARPPU_A\n",
    "\n",
    "print(\"Среднее ARPU для группы A:\", mean_ARPPU_A)\n",
    "print(\"Среднее ARPU для группы B:\", mean_ARPPU_B)\n",
    "print(\"Разница между ARPU для группы B и группы A:\", difference_ARPPU)"
   ]
  },
  {
   "cell_type": "code",
   "execution_count": 152,
   "metadata": {},
   "outputs": [
    {
     "name": "stdout",
     "output_type": "stream",
     "text": [
      "Доверительный интервал для разницы ARPPU: [105.40060017130969, 540.08319074058]\n"
     ]
    }
   ],
   "source": [
    "#Разница между средними значениями ARPPU для группы A и группы B\n",
    "difference_ARPPU = mean_ARPPU_B - mean_ARPPU_A\n",
    "\n",
    "#Расчет стандартного отклонения разницы ARPPU\n",
    "std_dev_ARPPU_diff = np.sqrt(np.var(bootstrap_ARPPU_A) + np.var(bootstrap_ARPPU_B))\n",
    "\n",
    "#Расчет доверительного интервала для разницы ARPPU\n",
    "confidence_interval_ARPPU_diff = [difference_ARPPU - 1.96 * std_dev_ARPPU_diff, difference_ARPPU + 1.96 * std_dev_ARPPU_diff]\n",
    "\n",
    "print(\"Доверительный интервал для разницы ARPPU:\", confidence_interval_ARPPU_diff)"
   ]
  },
  {
   "cell_type": "markdown",
   "metadata": {},
   "source": [
    "Доверительный интервал не включает в себя \"0\", следовательно мы отклоням нулевую гипотезу и делаем вывод о том, что ARPPU в двух группах различаются.\n",
    "\n",
    "Ответ на вопрос бизнеса, необходима ли новая механика для всех пользователей: скорее да. Предлагаемая механика оплаты даёт статистически значимый прирост исходя из исследования метрики ARPPU. При этом CR статистически незначимо снизилась, а ARPU статистически незначимо выросла."
   ]
  },
  {
   "cell_type": "code",
   "execution_count": null,
   "metadata": {},
   "outputs": [],
   "source": []
  },
  {
   "cell_type": "code",
   "execution_count": null,
   "metadata": {},
   "outputs": [],
   "source": []
  },
  {
   "cell_type": "markdown",
   "metadata": {},
   "source": [
    "# Задание №2"
   ]
  },
  {
   "cell_type": "markdown",
   "metadata": {},
   "source": [
    "2.1 Очень усердные ученики.\n",
    "\n",
    "2.1.1 Условие\n",
    "\n",
    "Образовательные курсы состоят из различных уроков, каждый из которых состоит из нескольких маленьких заданий. Каждое такое маленькое задание называется \"горошиной\".\n",
    "\n",
    "Назовём очень усердным учеником того пользователя, который хотя бы раз за текущий месяц правильно решил 20 горошин.\n",
    "\n",
    "2.1.2 Задача\n",
    "\n",
    "Дана таблица default.peas:\n",
    "\n",
    "Необходимо написать оптимальный запрос, который даст информацию о количестве очень усердных студентов.NB! Под усердным студентом мы понимаем студента, который правильно решил 20 задач за текущий месяц.\n",
    "\n",
    "В данной таблице последний месяц - октрябрь 2021 года, его и принимаем за текущий."
   ]
  },
  {
   "cell_type": "code",
   "execution_count": 71,
   "metadata": {},
   "outputs": [],
   "source": [
    "#Подключение к ClickHouse\n",
    "connection_default = {'host': 'https://clickhouse.lab.karpov.courses',\n",
    "                      'database':'default',\n",
    "                      'user':'student', \n",
    "                      'password':'dpo_python_2020'\n",
    "                     }"
   ]
  },
  {
   "cell_type": "code",
   "execution_count": 72,
   "metadata": {},
   "outputs": [],
   "source": [
    "#Запрос из clickhouse в pandas dataframe. Текущий месяц - послений месяц в датафрейме.\n",
    "query_1 = '''\n",
    "    SELECT\n",
    "        COUNT(st_id) AS stud\n",
    "    FROM\n",
    "        (SELECT \n",
    "            st_id,\n",
    "            SUM(correct) as cor\n",
    "        FROM peas\n",
    "        WHERE timest::DATE >= '2021-10-01' and timest::DATE < '2021-11-01' and correct = 1\n",
    "        GROUP BY st_id\n",
    "        HAVING cor >= 20)\n",
    "'''"
   ]
  },
  {
   "cell_type": "code",
   "execution_count": 73,
   "metadata": {},
   "outputs": [
    {
     "data": {
      "text/html": [
       "<div>\n",
       "<style scoped>\n",
       "    .dataframe tbody tr th:only-of-type {\n",
       "        vertical-align: middle;\n",
       "    }\n",
       "\n",
       "    .dataframe tbody tr th {\n",
       "        vertical-align: top;\n",
       "    }\n",
       "\n",
       "    .dataframe thead th {\n",
       "        text-align: right;\n",
       "    }\n",
       "</style>\n",
       "<table border=\"1\" class=\"dataframe\">\n",
       "  <thead>\n",
       "    <tr style=\"text-align: right;\">\n",
       "      <th></th>\n",
       "      <th>stud</th>\n",
       "    </tr>\n",
       "  </thead>\n",
       "  <tbody>\n",
       "    <tr>\n",
       "      <th>0</th>\n",
       "      <td>136</td>\n",
       "    </tr>\n",
       "  </tbody>\n",
       "</table>\n",
       "</div>"
      ],
      "text/plain": [
       "   stud\n",
       "0   136"
      ]
     },
     "execution_count": 73,
     "metadata": {},
     "output_type": "execute_result"
    }
   ],
   "source": [
    "#Результат в виде DataFrame\n",
    "result_1 = ph.read_clickhouse(query=query_1, connection=connection_default)\n",
    "result_1"
   ]
  },
  {
   "cell_type": "markdown",
   "metadata": {},
   "source": [
    "Ответ: 136 усердных учеников."
   ]
  },
  {
   "cell_type": "markdown",
   "metadata": {},
   "source": [
    "2.2 Оптимизация воронки\n",
    "\n",
    "2.2.1 Условие\n",
    "\n",
    "Образовательная платформа предлагает пройти студентам курсы по модели trial: студент может решить бесплатно лишь 30 горошин в день. Для неограниченного количества заданий в определенной дисциплине студенту необходимо приобрести полный доступ. Команда провела эксперимент, где был протестирован новый экран оплаты.\n",
    "\n",
    "2.2.2 Задача\n",
    "\n",
    "Дана таблицы: default.peas (см. выше), default.studs:"
   ]
  },
  {
   "cell_type": "code",
   "execution_count": 74,
   "metadata": {},
   "outputs": [],
   "source": [
    "#Запрос из clickhouse в pandas dataframe.\n",
    "query_2 = '''\n",
    "    SELECT \n",
    "        test_grp as grp,\n",
    "        round(SUM(fcp.money)/uniqExact(s.st_id),4) as ARPU,\n",
    "        round(SUMIf(fcp.money, query_in.act > 10)/uniqIf(s.st_id, query_in.act > 10),4) as ARPAU,\n",
    "        round(uniqIf(s.st_id, fcp.money > 0)/uniqExact(s.st_id), 4) as CR,\n",
    "        round(uniqIf(s.st_id, query_in.act > 10 and fcp.money > 0)/uniqIf(s.st_id, query_in.act > 10),4) as CR_active,\n",
    "        round(uniqIf(s.st_id, query_in.math_active >= 2 and fcp.subject = 'Math' and fcp.money > 0) /\n",
    "              uniqIf(s.st_id, query_in.math_active >= 2), 4) as CR_math\n",
    "    FROM \n",
    "        studs s\n",
    "    LEFT JOIN final_project_check fcp\n",
    "        ON s.st_id = fcp.st_id\n",
    "    LEFT JOIN (\n",
    "            SELECT \n",
    "                st_id, \n",
    "                SUM(correct) as act, \n",
    "                SUMIf(correct, subject = 'Math') as math_active\n",
    "            FROM \n",
    "                peas\n",
    "            GROUP BY \n",
    "                st_id) as query_in \n",
    "    ON s.st_id = query_in.st_id\n",
    "\n",
    "    GROUP BY test_grp\n",
    "\n",
    "'''"
   ]
  },
  {
   "cell_type": "code",
   "execution_count": 75,
   "metadata": {},
   "outputs": [
    {
     "data": {
      "text/html": [
       "<div>\n",
       "<style scoped>\n",
       "    .dataframe tbody tr th:only-of-type {\n",
       "        vertical-align: middle;\n",
       "    }\n",
       "\n",
       "    .dataframe tbody tr th {\n",
       "        vertical-align: top;\n",
       "    }\n",
       "\n",
       "    .dataframe thead th {\n",
       "        text-align: right;\n",
       "    }\n",
       "</style>\n",
       "<table border=\"1\" class=\"dataframe\">\n",
       "  <thead>\n",
       "    <tr style=\"text-align: right;\">\n",
       "      <th></th>\n",
       "      <th>grp</th>\n",
       "      <th>ARPU</th>\n",
       "      <th>ARPAU</th>\n",
       "      <th>CR</th>\n",
       "      <th>CR_active</th>\n",
       "      <th>CR_math</th>\n",
       "    </tr>\n",
       "  </thead>\n",
       "  <tbody>\n",
       "    <tr>\n",
       "      <th>0</th>\n",
       "      <td>control</td>\n",
       "      <td>4540.9836</td>\n",
       "      <td>10393.7008</td>\n",
       "      <td>0.0492</td>\n",
       "      <td>0.1102</td>\n",
       "      <td>0.0612</td>\n",
       "    </tr>\n",
       "    <tr>\n",
       "      <th>1</th>\n",
       "      <td>pilot</td>\n",
       "      <td>11508.4746</td>\n",
       "      <td>29739.5833</td>\n",
       "      <td>0.1085</td>\n",
       "      <td>0.2604</td>\n",
       "      <td>0.0952</td>\n",
       "    </tr>\n",
       "  </tbody>\n",
       "</table>\n",
       "</div>"
      ],
      "text/plain": [
       "       grp        ARPU       ARPAU      CR  CR_active  CR_math\n",
       "0  control   4540.9836  10393.7008  0.0492     0.1102   0.0612\n",
       "1    pilot  11508.4746  29739.5833  0.1085     0.2604   0.0952"
      ]
     },
     "execution_count": 75,
     "metadata": {},
     "output_type": "execute_result"
    }
   ],
   "source": [
    "#Выводим результат \n",
    "result_2 = ph.read_clickhouse(query=query_2, connection=connection_default)\n",
    "result_2"
   ]
  },
  {
   "cell_type": "code",
   "execution_count": null,
   "metadata": {},
   "outputs": [],
   "source": []
  },
  {
   "cell_type": "code",
   "execution_count": null,
   "metadata": {},
   "outputs": [],
   "source": []
  },
  {
   "cell_type": "markdown",
   "metadata": {},
   "source": [
    "# Задание №3"
   ]
  },
  {
   "cell_type": "markdown",
   "metadata": {},
   "source": [
    "\n",
    "3.1 Задача\n",
    "\n",
    "Реализуйте функцию, которая будет автоматически подгружать информацию из дополнительного файла groups_add.csv (заголовки могут отличаться) и на основании дополнительных параметров пересчитывать метрики. Реализуйте функцию, которая будет строить графики по получаемым метрикам."
   ]
  },
  {
   "cell_type": "code",
   "execution_count": 76,
   "metadata": {},
   "outputs": [],
   "source": [
    "#Загрузим данные\n",
    "base_url = 'https://cloud-api.yandex.net/v1/disk/public/resources/download?'\n",
    "\n",
    "public_key = 'https://disk.yandex.ru/d/UhyYx41rTt3clQ' \n",
    "final_url = base_url + urlencode(dict(public_key=public_key)) \n",
    "groups = pd.read_csv(requests.get(final_url).json()['href'], sep=';')\n",
    "\n",
    "public_key = 'https://disk.yandex.ru/d/5Kxrz02m3IBUwQ' \n",
    "final_url = base_url + urlencode(dict(public_key=public_key)) \n",
    "groups_add = pd.read_csv(requests.get(final_url).json()['href'])\n",
    "\n",
    "public_key = 'https://disk.yandex.ru/d/Tbs44Bm6H_FwFQ' \n",
    "final_url = base_url + urlencode(dict(public_key=public_key)) \n",
    "active_studs = pd.read_csv(requests.get(final_url).json()['href'])\n",
    "\n",
    "public_key = 'https://disk.yandex.ru/d/pH1q-VqcxXjsVA' \n",
    "final_url = base_url + urlencode(dict(public_key=public_key)) \n",
    "checks = pd.read_csv(requests.get(final_url).json()['href'], sep=';')\n",
    "    "
   ]
  },
  {
   "cell_type": "code",
   "execution_count": 77,
   "metadata": {},
   "outputs": [],
   "source": [
    "#Добавляем в функцию 4 аргумента\n",
    "def updater(groups, groups_add, active_studs, checks):\n",
    "    \n",
    "    #Объединяем первые два датасета\n",
    "    complete_groups = pd.concat([groups, groups_add], ignore_index=True)\n",
    "    \n",
    "    #Меняем названия в колонках, для успешного объединения\n",
    "    active_studs = active_studs.rename(columns={'student_id' : 'id'})\n",
    "    checks = checks.rename(columns={'student_id' : 'id'})\n",
    "\n",
    "    #Мёрджим к полученному датасету данные об активных пользователях\n",
    "    complete_groups_active = complete_groups.merge(active_studs.rename(columns={'id':'activity'}), left_on='id', right_on='activity', how='left')\n",
    "    \n",
    "    #Заменяем \"NaN\" нулями \n",
    "    complete_groups_active['activity'] = complete_groups_active.activity.fillna(0)\n",
    "    \n",
    "    #Приведем данные колонки 'activity' к типу bool\n",
    "    complete_groups_active['activity'] = complete_groups_active.apply(lambda row: True if row['activity'] > 0 else False, axis=1)\n",
    "\n",
    "    complete_df = complete_groups_active.merge(checks, on='id', how='left')\n",
    "\n",
    "    #Заменяем NaN нулями в колонке 'rev'\n",
    "    complete_df['rev'] = complete_df.rev.fillna(0)\n",
    "\n",
    "    #Удаляем из датасета ошибочные данные \n",
    "    complete_df = complete_df.drop(complete_df[(complete_df.activity == False) & (complete_df.rev > 0 )].index)\n",
    "    \n",
    "    #Создаем новую колонку, отражающую статус покупки\n",
    "    complete_df['payment'] = complete_df.rev.apply(lambda x: 0 if x == 0 else 1)\n",
    "    \n",
    "    #Оставляем только активных пользователей\n",
    "    active_users = complete_df.loc[complete_df['activity'] == True]\n",
    "    \n",
    "    #Активные пользователи из группы А\n",
    "    A_group =  active_users.loc[active_users['grp'] == \"A\"]\n",
    "    #Пользователи из группы А, оплатившие курс\n",
    "    A_group_paid = A_group.loc[A_group['rev'] > 0]\n",
    "    \n",
    "    #Активные пользователи из группы B\n",
    "    B_group =  active_users.loc[active_users['grp'] == \"B\"]\n",
    "    #Пользователи из группы B, оплатившие курс\n",
    "    B_group_paid = B_group.loc[B_group['rev'] > 0]\n",
    "        \n",
    "    #Посчитаем сколько всего пользователей в группе и общий доход каждой группы\n",
    "    metrics = active_users.groupby('grp', as_index=False).agg({'rev':'sum', 'id':'count'}).round(0)\n",
    "    #Сколько человек совершили покупку\n",
    "    metrics['buyers'] = active_users.loc[active_users['rev'] > 0].groupby('grp', as_index=False).agg({'id':'count'})['id']\n",
    "    #Считаем CR, ARPU и ARPPU\n",
    "    metrics['CR'] = (metrics['buyers']/metrics['id']).round(3)\n",
    "    metrics['ARPU'] = (metrics['rev']/metrics['id']).round(3)\n",
    "    metrics['ARPPU'] = (metrics['rev']/metrics['buyers']).round(3)\n",
    "    \n",
    "    return(metrics)"
   ]
  },
  {
   "cell_type": "code",
   "execution_count": 78,
   "metadata": {},
   "outputs": [
    {
     "data": {
      "text/html": [
       "<div>\n",
       "<style scoped>\n",
       "    .dataframe tbody tr th:only-of-type {\n",
       "        vertical-align: middle;\n",
       "    }\n",
       "\n",
       "    .dataframe tbody tr th {\n",
       "        vertical-align: top;\n",
       "    }\n",
       "\n",
       "    .dataframe thead th {\n",
       "        text-align: right;\n",
       "    }\n",
       "</style>\n",
       "<table border=\"1\" class=\"dataframe\">\n",
       "  <thead>\n",
       "    <tr style=\"text-align: right;\">\n",
       "      <th></th>\n",
       "      <th>grp</th>\n",
       "      <th>rev</th>\n",
       "      <th>id</th>\n",
       "      <th>buyers</th>\n",
       "      <th>CR</th>\n",
       "      <th>ARPU</th>\n",
       "      <th>ARPPU</th>\n",
       "    </tr>\n",
       "  </thead>\n",
       "  <tbody>\n",
       "    <tr>\n",
       "      <th>0</th>\n",
       "      <td>A</td>\n",
       "      <td>72820.0</td>\n",
       "      <td>1538</td>\n",
       "      <td>78</td>\n",
       "      <td>0.051</td>\n",
       "      <td>47.347</td>\n",
       "      <td>933.590</td>\n",
       "    </tr>\n",
       "    <tr>\n",
       "      <th>1</th>\n",
       "      <td>B</td>\n",
       "      <td>394974.0</td>\n",
       "      <td>6803</td>\n",
       "      <td>314</td>\n",
       "      <td>0.046</td>\n",
       "      <td>58.059</td>\n",
       "      <td>1257.879</td>\n",
       "    </tr>\n",
       "  </tbody>\n",
       "</table>\n",
       "</div>"
      ],
      "text/plain": [
       "  grp       rev    id  buyers     CR    ARPU     ARPPU\n",
       "0   A   72820.0  1538      78  0.051  47.347   933.590\n",
       "1   B  394974.0  6803     314  0.046  58.059  1257.879"
      ]
     },
     "execution_count": 78,
     "metadata": {},
     "output_type": "execute_result"
    }
   ],
   "source": [
    "metrics = updater(groups, groups_add, active_studs, checks)\n",
    "metrics"
   ]
  },
  {
   "cell_type": "code",
   "execution_count": 79,
   "metadata": {},
   "outputs": [],
   "source": [
    "#Функция для построения графиков\n",
    "def graph_maker(metrics):\n",
    "    fig, ax = plt.subplots(1, 3, figsize=(15,5))\n",
    "    fig.tight_layout(h_pad=4)\n",
    "    \n",
    "    ax_CR = sns.barplot(data=metrics, x='grp', y='CR', ax=ax[0], palette=['#87CEFA', '#FFFACD']).set_title('Conversion Rate')\n",
    "    ax_ARPU = sns.barplot(data=metrics, x='grp', y='ARPU', ax=ax[1], palette=['#87CEFA', '#FFFACD']).set_title('Average Revenue per User')\n",
    "    ax_ARPPU = sns.barplot(data=metrics, x='grp', y='ARPPU', ax=ax[2], palette=['#87CEFA', '#FFFACD']).set_title('Average Revenue per Paying User')"
   ]
  },
  {
   "cell_type": "code",
   "execution_count": 80,
   "metadata": {},
   "outputs": [
    {
     "data": {
      "image/png": "[encoded data removed]",
      "text/plain": [
       "<Figure size 1080x360 with 3 Axes>"
      ]
     },
     "metadata": {},
     "output_type": "display_data"
    }
   ],
   "source": [
    "graph_maker(metrics)"
   ]
  }
 ],
 "metadata": {
  "celltoolbar": "Raw Cell Format",
  "kernelspec": {
   "display_name": "Python 3",
   "language": "python",
   "name": "python3"
  },
  "language_info": {
   "codemirror_mode": {
    "name": "ipython",
    "version": 3
   },
   "file_extension": ".py",
   "mimetype": "text/x-python",
   "name": "python",
   "nbconvert_exporter": "python",
   "pygments_lexer": "ipython3",
   "version": "3.7.3"
  }
 },
 "nbformat": 4,
 "nbformat_minor": 4
}
